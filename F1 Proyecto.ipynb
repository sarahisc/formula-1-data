{
 "cells": [
  {
   "cell_type": "markdown",
   "id": "75b28267",
   "metadata": {},
   "source": [
    "# Primer entregable. Sarahi Salazar Carmona"
   ]
  },
  {
   "cell_type": "markdown",
   "id": "6aa8044d",
   "metadata": {},
   "source": [
    "## Librerías"
   ]
  },
  {
   "cell_type": "code",
   "execution_count": 1,
   "id": "e44b3139",
   "metadata": {},
   "outputs": [],
   "source": [
    "import pandas as pd\n",
    "import json\n",
    "import requests\n",
    "import warnings\n",
    "import time\n",
    "import numpy as np\n",
    "from requests.adapters import HTTPAdapter, Retry\n",
    "warnings.filterwarnings('ignore')\n"
   ]
  },
  {
   "cell_type": "markdown",
   "id": "a944e3e7",
   "metadata": {},
   "source": [
    "## Tabla de races"
   ]
  },
  {
   "cell_type": "code",
   "execution_count": 11,
   "id": "daf95826",
   "metadata": {},
   "outputs": [],
   "source": [
    "races={'season':[],\n",
    "      'round':[],\n",
    "      'raceName':[],\n",
    "      'circuitId':[],\n",
    "      'lat':[],\n",
    "      'long':[],\n",
    "      'country':[],\n",
    "      'date':[],\n",
    "      'url':[]}"
   ]
  },
  {
   "cell_type": "code",
   "execution_count": 12,
   "id": "9d5e4534",
   "metadata": {},
   "outputs": [],
   "source": [
    "for year in range(2010,UltimaTemporada+1):\n",
    "    url='http://ergast.com/api/f1/{}.json'\n",
    "    response=requests.get(url.format(year))\n",
    "    content=json.loads(response.content)\n",
    "    \n",
    "    for item in content['MRData']['RaceTable']['Races']:\n",
    "        races['season'].append(int(item['season']))\n",
    "        races['round'].append(int(item['round']))\n",
    "        races['raceName'].append(str(item['raceName']))\n",
    "        races['circuitId'].append(item['Circuit']['circuitId']) #Profundizar hasta donde se necesite\n",
    "        races['lat'].append(item['Circuit']['Location']['lat'])\n",
    "        races['long'].append(item['Circuit']['Location']['long'])\n",
    "        races['country'].append(item['Circuit']['Location']['country'])\n",
    "        races['date'].append(item['date'])\n",
    "        races['url'].append(item['url'])"
   ]
  },
  {
   "cell_type": "code",
   "execution_count": 13,
   "id": "69bcfbd4",
   "metadata": {},
   "outputs": [
    {
     "data": {
      "text/html": [
       "<div>\n",
       "<style scoped>\n",
       "    .dataframe tbody tr th:only-of-type {\n",
       "        vertical-align: middle;\n",
       "    }\n",
       "\n",
       "    .dataframe tbody tr th {\n",
       "        vertical-align: top;\n",
       "    }\n",
       "\n",
       "    .dataframe thead th {\n",
       "        text-align: right;\n",
       "    }\n",
       "</style>\n",
       "<table border=\"1\" class=\"dataframe\">\n",
       "  <thead>\n",
       "    <tr style=\"text-align: right;\">\n",
       "      <th></th>\n",
       "      <th>season</th>\n",
       "      <th>round</th>\n",
       "      <th>raceName</th>\n",
       "      <th>circuitId</th>\n",
       "      <th>lat</th>\n",
       "      <th>long</th>\n",
       "      <th>country</th>\n",
       "      <th>date</th>\n",
       "      <th>url</th>\n",
       "    </tr>\n",
       "  </thead>\n",
       "  <tbody>\n",
       "    <tr>\n",
       "      <th>0</th>\n",
       "      <td>2010</td>\n",
       "      <td>1</td>\n",
       "      <td>Bahrain Grand Prix</td>\n",
       "      <td>bahrain</td>\n",
       "      <td>26.0325</td>\n",
       "      <td>50.5106</td>\n",
       "      <td>Bahrain</td>\n",
       "      <td>2010-03-14</td>\n",
       "      <td>http://en.wikipedia.org/wiki/2010_Bahrain_Gran...</td>\n",
       "    </tr>\n",
       "    <tr>\n",
       "      <th>1</th>\n",
       "      <td>2010</td>\n",
       "      <td>2</td>\n",
       "      <td>Australian Grand Prix</td>\n",
       "      <td>albert_park</td>\n",
       "      <td>-37.8497</td>\n",
       "      <td>144.968</td>\n",
       "      <td>Australia</td>\n",
       "      <td>2010-03-28</td>\n",
       "      <td>http://en.wikipedia.org/wiki/2010_Australian_G...</td>\n",
       "    </tr>\n",
       "    <tr>\n",
       "      <th>2</th>\n",
       "      <td>2010</td>\n",
       "      <td>3</td>\n",
       "      <td>Malaysian Grand Prix</td>\n",
       "      <td>sepang</td>\n",
       "      <td>2.76083</td>\n",
       "      <td>101.738</td>\n",
       "      <td>Malaysia</td>\n",
       "      <td>2010-04-04</td>\n",
       "      <td>http://en.wikipedia.org/wiki/2010_Malaysian_Gr...</td>\n",
       "    </tr>\n",
       "    <tr>\n",
       "      <th>3</th>\n",
       "      <td>2010</td>\n",
       "      <td>4</td>\n",
       "      <td>Chinese Grand Prix</td>\n",
       "      <td>shanghai</td>\n",
       "      <td>31.3389</td>\n",
       "      <td>121.22</td>\n",
       "      <td>China</td>\n",
       "      <td>2010-04-18</td>\n",
       "      <td>http://en.wikipedia.org/wiki/2010_Chinese_Gran...</td>\n",
       "    </tr>\n",
       "    <tr>\n",
       "      <th>4</th>\n",
       "      <td>2010</td>\n",
       "      <td>5</td>\n",
       "      <td>Spanish Grand Prix</td>\n",
       "      <td>catalunya</td>\n",
       "      <td>41.57</td>\n",
       "      <td>2.26111</td>\n",
       "      <td>Spain</td>\n",
       "      <td>2010-05-09</td>\n",
       "      <td>http://en.wikipedia.org/wiki/2010_Spanish_Gran...</td>\n",
       "    </tr>\n",
       "    <tr>\n",
       "      <th>...</th>\n",
       "      <td>...</td>\n",
       "      <td>...</td>\n",
       "      <td>...</td>\n",
       "      <td>...</td>\n",
       "      <td>...</td>\n",
       "      <td>...</td>\n",
       "      <td>...</td>\n",
       "      <td>...</td>\n",
       "      <td>...</td>\n",
       "    </tr>\n",
       "    <tr>\n",
       "      <th>277</th>\n",
       "      <td>2023</td>\n",
       "      <td>19</td>\n",
       "      <td>United States Grand Prix</td>\n",
       "      <td>americas</td>\n",
       "      <td>30.1328</td>\n",
       "      <td>-97.6411</td>\n",
       "      <td>USA</td>\n",
       "      <td>2023-10-22</td>\n",
       "      <td>https://en.wikipedia.org/wiki/2023_United_Stat...</td>\n",
       "    </tr>\n",
       "    <tr>\n",
       "      <th>278</th>\n",
       "      <td>2023</td>\n",
       "      <td>20</td>\n",
       "      <td>Mexico City Grand Prix</td>\n",
       "      <td>rodriguez</td>\n",
       "      <td>19.4042</td>\n",
       "      <td>-99.0907</td>\n",
       "      <td>Mexico</td>\n",
       "      <td>2023-10-29</td>\n",
       "      <td>https://en.wikipedia.org/wiki/2023_Mexico_City...</td>\n",
       "    </tr>\n",
       "    <tr>\n",
       "      <th>279</th>\n",
       "      <td>2023</td>\n",
       "      <td>21</td>\n",
       "      <td>São Paulo Grand Prix</td>\n",
       "      <td>interlagos</td>\n",
       "      <td>-23.7036</td>\n",
       "      <td>-46.6997</td>\n",
       "      <td>Brazil</td>\n",
       "      <td>2023-11-05</td>\n",
       "      <td>https://en.wikipedia.org/wiki/2023_S%C3%A3o_Pa...</td>\n",
       "    </tr>\n",
       "    <tr>\n",
       "      <th>280</th>\n",
       "      <td>2023</td>\n",
       "      <td>22</td>\n",
       "      <td>Las Vegas Grand Prix</td>\n",
       "      <td>vegas</td>\n",
       "      <td>36.1147</td>\n",
       "      <td>-115.173</td>\n",
       "      <td>United States</td>\n",
       "      <td>2023-11-19</td>\n",
       "      <td>https://en.wikipedia.org/wiki/2023_Las_Vegas_G...</td>\n",
       "    </tr>\n",
       "    <tr>\n",
       "      <th>281</th>\n",
       "      <td>2023</td>\n",
       "      <td>23</td>\n",
       "      <td>Abu Dhabi Grand Prix</td>\n",
       "      <td>yas_marina</td>\n",
       "      <td>24.4672</td>\n",
       "      <td>54.6031</td>\n",
       "      <td>UAE</td>\n",
       "      <td>2023-11-26</td>\n",
       "      <td>https://en.wikipedia.org/wiki/2023_Abu_Dhabi_G...</td>\n",
       "    </tr>\n",
       "  </tbody>\n",
       "</table>\n",
       "<p>282 rows × 9 columns</p>\n",
       "</div>"
      ],
      "text/plain": [
       "     season  round                  raceName    circuitId       lat      long  \\\n",
       "0      2010      1        Bahrain Grand Prix      bahrain   26.0325   50.5106   \n",
       "1      2010      2     Australian Grand Prix  albert_park  -37.8497   144.968   \n",
       "2      2010      3      Malaysian Grand Prix       sepang   2.76083   101.738   \n",
       "3      2010      4        Chinese Grand Prix     shanghai   31.3389    121.22   \n",
       "4      2010      5        Spanish Grand Prix    catalunya     41.57   2.26111   \n",
       "..      ...    ...                       ...          ...       ...       ...   \n",
       "277    2023     19  United States Grand Prix     americas   30.1328  -97.6411   \n",
       "278    2023     20    Mexico City Grand Prix    rodriguez   19.4042  -99.0907   \n",
       "279    2023     21      São Paulo Grand Prix   interlagos  -23.7036  -46.6997   \n",
       "280    2023     22      Las Vegas Grand Prix        vegas   36.1147  -115.173   \n",
       "281    2023     23      Abu Dhabi Grand Prix   yas_marina   24.4672   54.6031   \n",
       "\n",
       "           country        date  \\\n",
       "0          Bahrain  2010-03-14   \n",
       "1        Australia  2010-03-28   \n",
       "2         Malaysia  2010-04-04   \n",
       "3            China  2010-04-18   \n",
       "4            Spain  2010-05-09   \n",
       "..             ...         ...   \n",
       "277            USA  2023-10-22   \n",
       "278         Mexico  2023-10-29   \n",
       "279         Brazil  2023-11-05   \n",
       "280  United States  2023-11-19   \n",
       "281            UAE  2023-11-26   \n",
       "\n",
       "                                                   url  \n",
       "0    http://en.wikipedia.org/wiki/2010_Bahrain_Gran...  \n",
       "1    http://en.wikipedia.org/wiki/2010_Australian_G...  \n",
       "2    http://en.wikipedia.org/wiki/2010_Malaysian_Gr...  \n",
       "3    http://en.wikipedia.org/wiki/2010_Chinese_Gran...  \n",
       "4    http://en.wikipedia.org/wiki/2010_Spanish_Gran...  \n",
       "..                                                 ...  \n",
       "277  https://en.wikipedia.org/wiki/2023_United_Stat...  \n",
       "278  https://en.wikipedia.org/wiki/2023_Mexico_City...  \n",
       "279  https://en.wikipedia.org/wiki/2023_S%C3%A3o_Pa...  \n",
       "280  https://en.wikipedia.org/wiki/2023_Las_Vegas_G...  \n",
       "281  https://en.wikipedia.org/wiki/2023_Abu_Dhabi_G...  \n",
       "\n",
       "[282 rows x 9 columns]"
      ]
     },
     "execution_count": 13,
     "metadata": {},
     "output_type": "execute_result"
    }
   ],
   "source": [
    "pd.DataFrame(races)"
   ]
  },
  {
   "cell_type": "code",
   "execution_count": 14,
   "id": "ba8089ec",
   "metadata": {},
   "outputs": [],
   "source": [
    "pd.DataFrame(races).to_csv('races.csv', index=False) #Generar archivo"
   ]
  },
  {
   "cell_type": "markdown",
   "id": "adf4181c",
   "metadata": {},
   "source": [
    "## Tabla de seasons"
   ]
  },
  {
   "cell_type": "code",
   "execution_count": 2,
   "id": "45e41b8c",
   "metadata": {},
   "outputs": [
    {
     "data": {
      "text/html": [
       "<div>\n",
       "<style scoped>\n",
       "    .dataframe tbody tr th:only-of-type {\n",
       "        vertical-align: middle;\n",
       "    }\n",
       "\n",
       "    .dataframe tbody tr th {\n",
       "        vertical-align: top;\n",
       "    }\n",
       "\n",
       "    .dataframe thead th {\n",
       "        text-align: right;\n",
       "    }\n",
       "</style>\n",
       "<table border=\"1\" class=\"dataframe\">\n",
       "  <thead>\n",
       "    <tr style=\"text-align: right;\">\n",
       "      <th></th>\n",
       "      <th>year</th>\n",
       "      <th>url</th>\n",
       "    </tr>\n",
       "  </thead>\n",
       "  <tbody>\n",
       "    <tr>\n",
       "      <th>0</th>\n",
       "      <td>1950</td>\n",
       "      <td>http://en.wikipedia.org/wiki/1950_Formula_One_...</td>\n",
       "    </tr>\n",
       "    <tr>\n",
       "      <th>1</th>\n",
       "      <td>1951</td>\n",
       "      <td>http://en.wikipedia.org/wiki/1951_Formula_One_...</td>\n",
       "    </tr>\n",
       "    <tr>\n",
       "      <th>2</th>\n",
       "      <td>1952</td>\n",
       "      <td>http://en.wikipedia.org/wiki/1952_Formula_One_...</td>\n",
       "    </tr>\n",
       "    <tr>\n",
       "      <th>3</th>\n",
       "      <td>1953</td>\n",
       "      <td>http://en.wikipedia.org/wiki/1953_Formula_One_...</td>\n",
       "    </tr>\n",
       "    <tr>\n",
       "      <th>4</th>\n",
       "      <td>1954</td>\n",
       "      <td>http://en.wikipedia.org/wiki/1954_Formula_One_...</td>\n",
       "    </tr>\n",
       "    <tr>\n",
       "      <th>...</th>\n",
       "      <td>...</td>\n",
       "      <td>...</td>\n",
       "    </tr>\n",
       "    <tr>\n",
       "      <th>69</th>\n",
       "      <td>2019</td>\n",
       "      <td>http://en.wikipedia.org/wiki/2019_Formula_One_...</td>\n",
       "    </tr>\n",
       "    <tr>\n",
       "      <th>70</th>\n",
       "      <td>2020</td>\n",
       "      <td>http://en.wikipedia.org/wiki/2020_Formula_One_...</td>\n",
       "    </tr>\n",
       "    <tr>\n",
       "      <th>71</th>\n",
       "      <td>2021</td>\n",
       "      <td>http://en.wikipedia.org/wiki/2021_Formula_One_...</td>\n",
       "    </tr>\n",
       "    <tr>\n",
       "      <th>72</th>\n",
       "      <td>2022</td>\n",
       "      <td>http://en.wikipedia.org/wiki/2022_Formula_One_...</td>\n",
       "    </tr>\n",
       "    <tr>\n",
       "      <th>73</th>\n",
       "      <td>2023</td>\n",
       "      <td>https://en.wikipedia.org/wiki/2023_Formula_One...</td>\n",
       "    </tr>\n",
       "  </tbody>\n",
       "</table>\n",
       "<p>74 rows × 2 columns</p>\n",
       "</div>"
      ],
      "text/plain": [
       "    year                                                url\n",
       "0   1950  http://en.wikipedia.org/wiki/1950_Formula_One_...\n",
       "1   1951  http://en.wikipedia.org/wiki/1951_Formula_One_...\n",
       "2   1952  http://en.wikipedia.org/wiki/1952_Formula_One_...\n",
       "3   1953  http://en.wikipedia.org/wiki/1953_Formula_One_...\n",
       "4   1954  http://en.wikipedia.org/wiki/1954_Formula_One_...\n",
       "..   ...                                                ...\n",
       "69  2019  http://en.wikipedia.org/wiki/2019_Formula_One_...\n",
       "70  2020  http://en.wikipedia.org/wiki/2020_Formula_One_...\n",
       "71  2021  http://en.wikipedia.org/wiki/2021_Formula_One_...\n",
       "72  2022  http://en.wikipedia.org/wiki/2022_Formula_One_...\n",
       "73  2023  https://en.wikipedia.org/wiki/2023_Formula_One...\n",
       "\n",
       "[74 rows x 2 columns]"
      ]
     },
     "execution_count": 2,
     "metadata": {},
     "output_type": "execute_result"
    }
   ],
   "source": [
    "seasons={'year':[],\n",
    "      'url':[]}\n",
    "\n",
    "url='http://ergast.com/api/f1/seasons.json?limit=1000'\n",
    "response=requests.get(url)\n",
    "content=json.loads(response.content)\n",
    "    \n",
    "for item in content['MRData']['SeasonTable']['Seasons']:\n",
    "    seasons['year'].append(int(item['season']))\n",
    "    seasons['url'].append(item['url'])\n",
    "\n",
    "pd.DataFrame(seasons)"
   ]
  },
  {
   "cell_type": "code",
   "execution_count": 3,
   "id": "118f72a0",
   "metadata": {},
   "outputs": [
    {
     "data": {
      "text/plain": [
       "2023"
      ]
     },
     "execution_count": 3,
     "metadata": {},
     "output_type": "execute_result"
    }
   ],
   "source": [
    "UltimaTemporada=np.max(seasons['year'])\n",
    "UltimaTemporada"
   ]
  },
  {
   "cell_type": "code",
   "execution_count": null,
   "id": "69556bb1",
   "metadata": {},
   "outputs": [],
   "source": [
    "pd.DataFrame(seasons).to_csv('seasonss.csv', index=False)"
   ]
  },
  {
   "cell_type": "markdown",
   "id": "da77de4f",
   "metadata": {},
   "source": [
    "## Tabla de drivers"
   ]
  },
  {
   "cell_type": "code",
   "execution_count": null,
   "id": "7abfc3d5",
   "metadata": {},
   "outputs": [],
   "source": [
    "url='http://ergast.com/api/f1/drivers.json'\n",
    "response=requests.get(url)\n",
    "content=json.loads(response.content)\n",
    "#content['MRData']['DriverTable']['Drivers']"
   ]
  },
  {
   "cell_type": "code",
   "execution_count": null,
   "id": "04f4bacb",
   "metadata": {},
   "outputs": [],
   "source": [
    "drivers={'driverId':[], 'url':[],'givenName':[], 'familyName':[], 'dateOfBirth':[], 'nationality':[]}\n",
    "\n",
    "for year in list(range(2010,2023)):\n",
    "    url='http://ergast.com/api/f1/{}/drivers.json'\n",
    "    response=requests.get(url.format(year))\n",
    "    content=json.loads(response.content)\n",
    "    \n",
    "    for item in content['MRData']['DriverTable']['Drivers']:\n",
    "        drivers['driverId'].append(item['driverId'])\n",
    "        #drivers['code'].append(item['code'])\n",
    "        drivers['url'].append(item['url'])\n",
    "        drivers['givenName'].append(item['givenName'])\n",
    "        drivers['familyName'].append(item['familyName'])\n",
    "        drivers['dateOfBirth'].append(item['dateOfBirth'])\n",
    "        drivers['nationality'].append(item['nationality'])\n",
    "                               \n",
    "pd.DataFrame(drivers)"
   ]
  },
  {
   "cell_type": "code",
   "execution_count": null,
   "id": "2808a953",
   "metadata": {},
   "outputs": [],
   "source": [
    "pd.DataFrame(drivers).to_csv('driverss.csv', index=False)"
   ]
  },
  {
   "cell_type": "markdown",
   "id": "84a05436",
   "metadata": {},
   "source": [
    "## Tabla de constructors"
   ]
  },
  {
   "cell_type": "code",
   "execution_count": null,
   "id": "6d4bbd67",
   "metadata": {},
   "outputs": [],
   "source": [
    "url='http://ergast.com/api/f1/constructors.json'\n",
    "response=requests.get(url)\n",
    "content=json.loads(response.content)\n",
    "pd.DataFrame(content['MRData']['ConstructorTable']['Constructors'])"
   ]
  },
  {
   "cell_type": "code",
   "execution_count": null,
   "id": "095f1dba",
   "metadata": {},
   "outputs": [],
   "source": [
    "constructors={'constructorId':[], 'url':[],'name':[], 'nationality':[]}\n",
    "\n",
    "for year in list(range(2010,2023)):\n",
    "    url='http://ergast.com/api/f1/{}/constructors.json'\n",
    "    response=requests.get(url.format(year))\n",
    "    content=json.loads(response.content)\n",
    "\n",
    "    for item in content['MRData']['ConstructorTable']['Constructors']:\n",
    "        constructors['constructorId'].append(item['constructorId'])\n",
    "        constructors['url'].append(item['url'])\n",
    "        constructors['name'].append(item['name'])\n",
    "        constructors['nationality'].append(item['nationality'])\n",
    "                               \n",
    "pd.DataFrame(constructors)"
   ]
  },
  {
   "cell_type": "code",
   "execution_count": null,
   "id": "b06f1010",
   "metadata": {},
   "outputs": [],
   "source": [
    "pd.DataFrame(constructors).to_csv('constructorss.csv', index=False)"
   ]
  },
  {
   "cell_type": "markdown",
   "id": "4a8ddacc",
   "metadata": {},
   "source": [
    "## Tabla de circuits"
   ]
  },
  {
   "cell_type": "code",
   "execution_count": null,
   "id": "4dc85519",
   "metadata": {},
   "outputs": [],
   "source": [
    "url='http://ergast.com/api/f1/circuits.json'\n",
    "response = requests.get(url.format(year))\n",
    "content=json.loads(response.content)"
   ]
  },
  {
   "cell_type": "code",
   "execution_count": null,
   "id": "33ed0955",
   "metadata": {},
   "outputs": [],
   "source": [
    "cir={'circuitId':[],'url':[],'cirName':[],'Lat':[],'Long':[],'Locality':[],'Country':[]}\n",
    "for year in list(range(2010,2023)):\n",
    "    url='http://ergast.com/api/f1/{}/circuits.json'\n",
    "    response = requests.get(url.format(year))\n",
    "    content=json.loads(response.content)\n",
    "    for item in content['MRData']['CircuitTable']['Circuits']:\n",
    "        cir['circuitId'].append(item['circuitId'])\n",
    "        cir['url'].append(item['url'])\n",
    "        cir['cirName'].append(item['circuitName'])\n",
    "        cir['Lat'].append(item['Location']['lat'])\n",
    "        cir['Long'].append(item['Location']['long'])\n",
    "        cir['Locality'].append(item['Location']['locality'])\n",
    "        cir['Country'].append(item['Location']['country'])\n"
   ]
  },
  {
   "cell_type": "code",
   "execution_count": null,
   "id": "26b70910",
   "metadata": {},
   "outputs": [],
   "source": [
    "pd.DataFrame(cir).to_csv('Circuitss.csv', index=False)"
   ]
  },
  {
   "cell_type": "markdown",
   "id": "028936be",
   "metadata": {},
   "source": [
    "## Tabla de qualifying"
   ]
  },
  {
   "cell_type": "code",
   "execution_count": null,
   "id": "42565f9a",
   "metadata": {},
   "outputs": [],
   "source": [
    "url='http://ergast.com/api/f1/qualifying.json'\n",
    "response = requests.get(url)\n",
    "content=json.loads(response.content)"
   ]
  },
  {
   "cell_type": "code",
   "execution_count": null,
   "id": "5712739e",
   "metadata": {},
   "outputs": [],
   "source": [
    "content['MRData']['RaceTable']['Races'][1]['QualifyingResults']"
   ]
  },
  {
   "cell_type": "code",
   "execution_count": null,
   "id": "2c16f025",
   "metadata": {},
   "outputs": [],
   "source": [
    "qua={'raceID':[],'num':[],'pos':[],'driverId':[],'constructorId':[],'q1':[],'q2':[],'q3':[] }\n",
    "for year in list(range(2010,2023)):\n",
    "    url='http://ergast.com/api/f1/{}/qualifying.json'\n",
    "    response = requests.get(url.format(year))\n",
    "    content=json.loads(response.content)\n",
    "    for item in content['MRData']['RaceTable']['Races'][0]['QualifyingResults']:\n",
    "        qua['raceID'].append(content['MRData']['RaceTable']['Races'][0]['raceName'])\n",
    "        qua['num'].append(item['number'])\n",
    "        qua['pos'].append(item['position'])\n",
    "        qua['driverId'].append(item['Driver']['driverId'])\n",
    "        qua['constructorId'].append(item['Constructor']['constructorId'])\n",
    "        qua['q1'].append(item['Q1'])\n",
    "        try:\n",
    "            qua['q2'].append(item['Q2'])\n",
    "        except:\n",
    "            qua['q2'].append(np.nan)\n",
    "        try:\n",
    "            qua['q3'].append(item['Q3'])\n",
    "        except:\n",
    "            qua['q3'].append(np.nan)   \n",
    "    for item in content['MRData']['RaceTable']['Races'][1]['QualifyingResults']:\n",
    "        qua['raceID'].append(content['MRData']['RaceTable']['Races'][1]['raceName'])\n",
    "        qua['num'].append(item['number'])\n",
    "        qua['pos'].append(item['position'])\n",
    "        qua['driverId'].append(item['Driver']['driverId'])\n",
    "        qua['constructorId'].append(item['Constructor']['constructorId'])\n",
    "        qua['q1'].append(item['Q1'])\n",
    "        qua['q2'].append(item['Q2'])\n",
    "        try:\n",
    "            qua['q3'].append(item['Q3'])\n",
    "        except:\n",
    "            qua['q3'].append(np.nan)"
   ]
  },
  {
   "cell_type": "code",
   "execution_count": null,
   "id": "1c33694f",
   "metadata": {},
   "outputs": [],
   "source": [
    "pd.DataFrame(qua).to_csv('Qualifyingg.csv', index=False)"
   ]
  },
  {
   "cell_type": "markdown",
   "id": "0b185492",
   "metadata": {},
   "source": [
    "## Tabla sprintResults"
   ]
  },
  {
   "cell_type": "code",
   "execution_count": null,
   "id": "9ee9c8d6",
   "metadata": {},
   "outputs": [],
   "source": [
    "url = 'http://ergast.com/api/f1/sprint.json'\n",
    "response = requests.get(url)\n",
    "content=json.loads(response.content)"
   ]
  },
  {
   "cell_type": "code",
   "execution_count": null,
   "id": "02af1c82",
   "metadata": {},
   "outputs": [],
   "source": [
    "content['MRData']['RaceTable']['Races'][0]['SprintResults']"
   ]
  },
  {
   "cell_type": "code",
   "execution_count": null,
   "id": "e427ed15",
   "metadata": {},
   "outputs": [],
   "source": [
    "spr={'driverId':[],'constructorId':[],'num':[],'grid':[],'pos':[],'postex':[],'points':[],'laps':[],'time':[],'millis':[],\n",
    "     'statusId':[],'fastl':[],'fastt':[]}\n",
    "for year in list(range(2021,2023)):\n",
    "    url='http://ergast.com/api/f1/{}/sprint.json'\n",
    "    response = requests.get(url.format(year))\n",
    "    content=json.loads(response.content)\n",
    "    for item in content['MRData']['RaceTable']['Races'][0]['SprintResults']:\n",
    "        spr['driverId'].append(item['Driver']['driverId'])\n",
    "        spr['constructorId'].append(item['Constructor']['constructorId'])\n",
    "        spr['num'].append(item['number'])\n",
    "        spr['grid'].append(item['grid'])\n",
    "        spr['pos'].append(item['position'])\n",
    "        spr['postex'].append(item['positionText'])\n",
    "        spr['points'].append(item['points'])\n",
    "        spr['laps'].append(item['laps'])\n",
    "        try:\n",
    "            spr['time'].append(item['Time']['time'])\n",
    "        except:\n",
    "            spr['time'].append(np.nan)\n",
    "        try:\n",
    "            spr['millis'].append(item['Time']['millis'])\n",
    "        except:\n",
    "            spr['millis'].append(np.nan)\n",
    "        try:\n",
    "            spr['statusId'].append(item['statusId'])\n",
    "        except:\n",
    "            spr['statusId'].append(np.nan)\n",
    "        try:\n",
    "            spr['fastl'].append(item['FastestLap']['lap'])\n",
    "        except:\n",
    "            spr['fastl'].append(np.nan)\n",
    "        try:\n",
    "            spr['fastt'].append(item['FastestLap']['Time']['time'])\n",
    "        except:\n",
    "            spr['fastt'].append(np.nan)\n",
    "    for item in content['MRData']['RaceTable']['Races'][1]['SprintResults']:\n",
    "        spr['driverId'].append(item['Driver']['driverId'])\n",
    "        spr['constructorId'].append(item['Constructor']['constructorId'])\n",
    "        spr['num'].append(item['number'])\n",
    "        spr['grid'].append(item['grid'])\n",
    "        spr['pos'].append(item['position'])\n",
    "        spr['postex'].append(item['positionText'])\n",
    "        spr['points'].append(item['points'])\n",
    "        spr['laps'].append(item['laps'])\n",
    "        try:\n",
    "            spr['time'].append(item['Time']['time'])\n",
    "        except:\n",
    "            spr['time'].append(np.nan)\n",
    "        try:\n",
    "            spr['millis'].append(item['Time']['millis'])\n",
    "        except:\n",
    "            spr['millis'].append(np.nan)\n",
    "        try:\n",
    "            spr['statusId'].append(item['statusId'])\n",
    "        except:\n",
    "            spr['statusId'].append(np.nan)\n",
    "        try:\n",
    "            spr['fastl'].append(item['FastestLap']['lap'])\n",
    "        except:\n",
    "            spr['fastl'].append(np.nan)\n",
    "        try:\n",
    "            spr['fastt'].append(item['FastestLap']['Time']['time'])\n",
    "        except:\n",
    "            spr['fastt'].append(np.nan)"
   ]
  },
  {
   "cell_type": "code",
   "execution_count": null,
   "id": "e11c4ed1",
   "metadata": {},
   "outputs": [],
   "source": [
    "pd.DataFrame(spr).to_csv('SprintResultss.csv', index=False)"
   ]
  },
  {
   "cell_type": "markdown",
   "id": "cf2fe016",
   "metadata": {},
   "source": [
    "## Tabla status"
   ]
  },
  {
   "cell_type": "code",
   "execution_count": null,
   "id": "1d197cc4",
   "metadata": {},
   "outputs": [],
   "source": [
    "url='http://ergast.com/api/f1/status.json'\n",
    "response=requests.get(url)\n",
    "content=json.loads(response.content)"
   ]
  },
  {
   "cell_type": "code",
   "execution_count": null,
   "id": "6afc886a",
   "metadata": {},
   "outputs": [],
   "source": [
    "pd.DataFrame(content['MRData']['StatusTable']['Status'])"
   ]
  },
  {
   "cell_type": "code",
   "execution_count": null,
   "id": "bc5db8c9",
   "metadata": {},
   "outputs": [],
   "source": [
    "sta={'statusId':[],'count':[],'status':[]}\n",
    "\n",
    "for year in list(range(2010,2023)):\n",
    "    url='http://ergast.com/api/f1/{}/status.json'\n",
    "    response = requests.get(url.format(year))\n",
    "    content=json.loads(response.content)\n",
    "    for item in content['MRData']['StatusTable']['Status']:\n",
    "        sta['statusId'].append(item['statusId'])\n",
    "        sta['count'].append(item['count'])\n",
    "        sta['status'].append(item['status'])\n",
    "pd.DataFrame(sta).to_csv('Status.csv', index=False)"
   ]
  },
  {
   "cell_type": "code",
   "execution_count": null,
   "id": "36a45bfd",
   "metadata": {},
   "outputs": [],
   "source": [
    "pd.DataFrame(sta).to_csv('Statuss.csv', index=False)"
   ]
  },
  {
   "cell_type": "markdown",
   "id": "bb87844f",
   "metadata": {},
   "source": [
    "## Tabla results"
   ]
  },
  {
   "cell_type": "code",
   "execution_count": null,
   "id": "0c95a4a3",
   "metadata": {},
   "outputs": [],
   "source": [
    "res={'driverId':[],'cons':[],'num':[],'pos':[],'postex':[],'poi':[],'grid':[],'laps':[],'tim':[],'millis':[],'fastl':[],'rank':[]}\n",
    "\n",
    "for year in list(range(2010,2023)):\n",
    "    url='http://ergast.com/api/f1/{}/results.json'\n",
    "    response = requests.get(url.format(year))\n",
    "    content=json.loads(response.content)\n",
    "    for item in  content['MRData']['RaceTable']['Races'][0]['Results']:\n",
    "        try:\n",
    "            res['fastl'].append(item['FastestLap']['lap'])\n",
    "        except:\n",
    "            res['fastl'].append(np.nan)\n",
    "        try:\n",
    "            res['rank'].append(item['FastestLap']['rank'])\n",
    "        except:\n",
    "            res['rank'].append(np.nan)\n",
    "        res['cons'].append(item['Constructor']['constructorId'])\n",
    "        res['driverId'].append(item['Driver']['driverId'])\n",
    "        res['num'].append(item['number'])\n",
    "        res['pos'].append(item['position'])\n",
    "        res['postex'].append(item['positionText'])\n",
    "        res['poi'].append(item['points'])\n",
    "        res['grid'].append(item['grid'])\n",
    "        res['laps'].append(item['laps'])\n",
    "        try:\n",
    "            res['tim'].append(item['Time']['time'])\n",
    "        except:\n",
    "            res['tim'].append(np.nan)\n",
    "        try:\n",
    "            res['millis'].append(item['Time']['millis'])\n",
    "        except:\n",
    "            res['millis'].append(np.nan)\n",
    "    for item in  content['MRData']['RaceTable']['Races'][1]['Results']:\n",
    "        try:\n",
    "            res['fastl'].append(item['FastestLap']['lap'])\n",
    "        except:\n",
    "            res['fastl'].append(np.nan)\n",
    "        try:\n",
    "            res['rank'].append(item['FastestLap']['rank'])\n",
    "        except:\n",
    "            res['rank'].append(np.nan)\n",
    "        res['cons'].append(item['Constructor']['constructorId'])\n",
    "        res['driverId'].append(item['Driver']['driverId'])\n",
    "        res['num'].append(item['number'])\n",
    "        res['pos'].append(item['position'])\n",
    "        res['postex'].append(item['positionText'])\n",
    "        res['poi'].append(item['points'])\n",
    "        res['grid'].append(item['grid'])\n",
    "        res['laps'].append(item['laps'])\n",
    "        try:\n",
    "            res['tim'].append(item['Time']['time'])\n",
    "        except:\n",
    "            res['tim'].append(np.nan)\n",
    "        try:\n",
    "            res['millis'].append(item['Time']['millis'])\n",
    "        except:\n",
    "            res['millis'].append(np.nan)"
   ]
  },
  {
   "cell_type": "code",
   "execution_count": null,
   "id": "89d96d4c",
   "metadata": {},
   "outputs": [],
   "source": [
    "pd.DataFrame(res).to_csv('Resultss.csv', index=False)"
   ]
  },
  {
   "cell_type": "markdown",
   "id": "2e00d2cf",
   "metadata": {},
   "source": [
    "## Tabla pitStops"
   ]
  },
  {
   "cell_type": "code",
   "execution_count": null,
   "id": "af80b338",
   "metadata": {},
   "outputs": [],
   "source": [
    "url = 'http://ergast.com/api/f1/2011/5/pitstops.json'\n",
    "response = requests.get(url)\n",
    "content=json.loads(response.content)"
   ]
  },
  {
   "cell_type": "code",
   "execution_count": null,
   "id": "8ae9a22f",
   "metadata": {},
   "outputs": [],
   "source": [
    "content['MRData']['RaceTable']['Races']"
   ]
  },
  {
   "cell_type": "code",
   "execution_count": null,
   "id": "0fe28297",
   "metadata": {},
   "outputs": [],
   "source": [
    "pits={'driverId':[],'lap':[],'stop':[],'time':[],'duration':[]}\n",
    "for year in list(range(2011,2023)):\n",
    "    url='http://ergast.com/api/f1/{}/5/pitstops.json'\n",
    "    response = requests.get(url.format(year))\n",
    "    content=json.loads(response.content)\n",
    "    for item in content['MRData']['RaceTable']['Races'][0]['PitStops']:\n",
    "        pits['driverId'].append(item['driverId'])\n",
    "        pits['lap'].append(item['lap'])\n",
    "        pits['stop'].append(item['stop'])\n",
    "        pits['time'].append(item['time'])\n",
    "        pits['duration'].append(item['duration'])"
   ]
  },
  {
   "cell_type": "code",
   "execution_count": null,
   "id": "a57b192b",
   "metadata": {},
   "outputs": [],
   "source": [
    "pd.DataFrame(pits).to_csv('Pitstopss.csv',index=False)"
   ]
  },
  {
   "cell_type": "markdown",
   "id": "4ee0b02c",
   "metadata": {},
   "source": [
    "## Tabla Driver Standing"
   ]
  },
  {
   "cell_type": "code",
   "execution_count": null,
   "id": "7d132267",
   "metadata": {},
   "outputs": [],
   "source": [
    "driverStanding={\n",
    "    'season':[],\n",
    "    'round':[],\n",
    "    'driverId':[],\n",
    "    'points':[],\n",
    "    'position':[],\n",
    "    'wins':[]  \n",
    "}\n",
    "\n",
    "for year in list(range(2012,2013)):\n",
    "    for i in list(range(1,24)):     \n",
    "        url='http://ergast.com/api/f1/{}/{}/driverStandings.json'\n",
    "        response = requests.get(url.format(year,i))\n",
    "        content=json.loads(response.content)\n",
    "        if content['MRData']['StandingsTable']['StandingsLists']:\n",
    "            for item in content['MRData']['StandingsTable']['StandingsLists'][0]['DriverStandings']:\n",
    "                try:\n",
    "                    driverStanding['season'].append(year)\n",
    "                except:\n",
    "                    driverStanding['season'].append(np.nan)\n",
    "                    \n",
    "                try:\n",
    "                    driverStanding['round'].append(content['MRData']['StandingsTable']['StandingsLists'][0]['round'])\n",
    "                except:\n",
    "                    driverStanding['round'].append(np.nan)\n",
    "                    \n",
    "                try:\n",
    "                    driverStanding['driverId'].append(item['Driver']['driverId'])\n",
    "                except:\n",
    "                    driverStanding['driverId'].append(np.nan)   \n",
    "         \n",
    "                try:\n",
    "                    driverStanding['points'].append(item['points'])\n",
    "                except:\n",
    "                    driverStanding['points'].append(np.nan)\n",
    "                    \n",
    "                try:\n",
    "                    driverStanding['position'].append(item['position'])\n",
    "                except:\n",
    "                    driverStanding['position'].append(np.nan)\n",
    "                    \n",
    "                try:\n",
    "                    driverStanding['wins'].append(item['wins'])\n",
    "                except:\n",
    "                    driverStanding['wins'].append(np.nan)"
   ]
  },
  {
   "cell_type": "code",
   "execution_count": null,
   "id": "9dd86c69",
   "metadata": {},
   "outputs": [],
   "source": [
    "pd.DataFrame(driverStanding).to_csv('driverStandingg.csv', index=False)"
   ]
  },
  {
   "cell_type": "markdown",
   "id": "3550be1c",
   "metadata": {},
   "source": [
    "## Tabla Constructor Standing"
   ]
  },
  {
   "cell_type": "code",
   "execution_count": null,
   "id": "e3359c44",
   "metadata": {},
   "outputs": [],
   "source": [
    "constructorStanding={\n",
    "    'season':[],\n",
    "    'round':[],\n",
    "    'constructorId':[],\n",
    "    'points':[],\n",
    "    'position':[],\n",
    "    'wins':[]  \n",
    "}\n",
    "\n",
    "for year in list(range(2012,2013)):\n",
    "    for i in list(range(1,24)):     \n",
    "        url='http://ergast.com/api/f1/{}/{}/constructorStandings.json'\n",
    "        response = requests.get(url.format(year,i))\n",
    "        content=json.loads(response.content)\n",
    "        if content['MRData']['StandingsTable']['StandingsLists']:\n",
    "            for item in content['MRData']['StandingsTable']['StandingsLists'][0]['ConstructorStandings']:\n",
    "                try:\n",
    "                    constructorStanding['season'].append(year)\n",
    "                except:\n",
    "                    constructorStanding['season'].append(np.nan)\n",
    "                    \n",
    "                try:\n",
    "                    constructorStanding['round'].append(content['MRData']['StandingsTable']['StandingsLists'][0]['round'])\n",
    "                except:\n",
    "                    constructorStanding['round'].append(np.nan)\n",
    "                    \n",
    "                try:\n",
    "                    constructorStanding['constructorId'].append(item['Constructor']['constructorId'])\n",
    "                except:\n",
    "                    constructorStanding['constructorId'].append(np.nan)   \n",
    "         \n",
    "                try:\n",
    "                    constructorStanding['points'].append(item['points'])\n",
    "                except:\n",
    "                    constructorStanding['points'].append(np.nan)\n",
    "                    \n",
    "                try:\n",
    "                    constructorStanding['position'].append(item['position'])\n",
    "                except:\n",
    "                    constructorStanding['position'].append(np.nan)\n",
    "                    \n",
    "                try:\n",
    "                    constructorStanding['wins'].append(item['wins'])\n",
    "                except:\n",
    "                    constructorStanding['wins'].append(np.nan)"
   ]
  },
  {
   "cell_type": "code",
   "execution_count": null,
   "id": "d50006cf",
   "metadata": {},
   "outputs": [],
   "source": [
    "pd.DataFrame(constructorStanding).to_csv('constructorStandingss.csv',index=False)"
   ]
  },
  {
   "cell_type": "markdown",
   "id": "29720a95",
   "metadata": {},
   "source": [
    "## Tabla Constructor Results"
   ]
  },
  {
   "cell_type": "code",
   "execution_count": null,
   "id": "877725f1",
   "metadata": {},
   "outputs": [],
   "source": [
    "constructorResults={\n",
    "        'seasons':[],\n",
    "        'raceID':[],\n",
    "        'points':[],\n",
    "        'constructorId':[],\n",
    "        'status':[]}\n",
    "\n",
    "for year in list(range(2010,2012)):\n",
    "    url='http://ergast.com/api/f1/{}/results.json'\n",
    "    response = requests.get(url.format(year))\n",
    "    content=json.loads(response.content)\n",
    "    for year in list(range(2010,2012)):\n",
    "        for i in list(range(1,len(content['MRData']['RaceTable']['Races'])+1)):\n",
    "            url='http://ergast.com/api/f1/{}/{}/results.json'\n",
    "            response = requests.get(url.format(year,i))\n",
    "            content=json.loads(response.content)\n",
    "            for item in content['MRData']['RaceTable']['Races'][0]['Results']:\n",
    "                constructorResults['seasons'].append(year)\n",
    "                constructorResults['raceID'].append(content['MRData']['RaceTable']['Races'][0]['raceName'])\n",
    "                constructorResults['points'].append(int(item['points']))\n",
    "                constructorResults['constructorId'].append(str(item['Constructor']['constructorId']))\n",
    "                constructorResults['status'].append(str(item['status']))"
   ]
  },
  {
   "cell_type": "code",
   "execution_count": null,
   "id": "cd869be6",
   "metadata": {},
   "outputs": [],
   "source": [
    "pd.DataFrame(constructorResults).to_csv('constructorResultss.csv',index=False)"
   ]
  },
  {
   "cell_type": "markdown",
   "id": "e0edf1ec",
   "metadata": {},
   "source": [
    "## Tabla Lap Times"
   ]
  },
  {
   "cell_type": "code",
   "execution_count": null,
   "id": "2522f2bd",
   "metadata": {},
   "outputs": [],
   "source": [
    "lapTimes={\n",
    "    'season':[],\n",
    "    'round':[],\n",
    "    'raceId':[],\n",
    "    'driverId':[],\n",
    "    'position':[],\n",
    "    'time':[],\n",
    "    'lap':[]}\n",
    "\n",
    "for year in list(range(2012,2013)):\n",
    "    for i in list(range(1,3)):\n",
    "        for j in list(range(1,6)):\n",
    "            url='http://ergast.com/api/f1/{}/{}/laps/{}.json'\n",
    "            response = requests.get(url.format(year,i,j))\n",
    "            content=json.loads(response.content)\n",
    "            if content['MRData']['RaceTable']['Races']:\n",
    "                for item in content['MRData']['RaceTable']['Races'][0]['Laps'][0]['Timings']:\n",
    "                    lapTimes['season'].append(year)\n",
    "                    lapTimes['round'].append(content['MRData']['RaceTable']['Races'][0]['round'])\n",
    "                    lapTimes['raceId'].append(content['MRData']['RaceTable']['Races'][0]['raceName'])\n",
    "                    lapTimes['driverId'].append(item['driverId'])\n",
    "                    lapTimes['lap'].append(j)\n",
    "                    try:\n",
    "                        lapTimes['time'].append(item['time'])\n",
    "                    except:\n",
    "                        lapTimes['time'].append(np.nan)\n",
    "                    try:    \n",
    "                        lapTimes['position'].append(item['position'])\n",
    "                    except:\n",
    "                        lapTimes['position'].append(np.nan)"
   ]
  },
  {
   "cell_type": "code",
   "execution_count": null,
   "id": "7d22ea2b",
   "metadata": {},
   "outputs": [],
   "source": [
    "pd.DataFrame(lapTimes).to_csv('lapTimess.csv',index=False)"
   ]
  }
 ],
 "metadata": {
  "kernelspec": {
   "display_name": "Python 3 (ipykernel)",
   "language": "python",
   "name": "python3"
  },
  "language_info": {
   "codemirror_mode": {
    "name": "ipython",
    "version": 3
   },
   "file_extension": ".py",
   "mimetype": "text/x-python",
   "name": "python",
   "nbconvert_exporter": "python",
   "pygments_lexer": "ipython3",
   "version": "3.9.13"
  }
 },
 "nbformat": 4,
 "nbformat_minor": 5
}
