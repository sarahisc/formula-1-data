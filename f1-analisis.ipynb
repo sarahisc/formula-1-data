{
 "cells": [
  {
   "cell_type": "markdown",
   "id": "75b28267",
   "metadata": {},
   "source": [
    "# Primer entregable. Sarahi Salazar Carmona"
   ]
  },
  {
   "cell_type": "markdown",
   "id": "6aa8044d",
   "metadata": {},
   "source": [
    "## Librerías"
   ]
  },
  {
   "cell_type": "code",
   "execution_count": 9,
   "id": "e44b3139",
   "metadata": {},
   "outputs": [],
   "source": [
    "import pandas as pd\n",
    "import json\n",
    "import requests\n",
    "import warnings\n",
    "import time\n",
    "import numpy as np\n",
    "from requests.adapters import HTTPAdapter, Retry\n",
    "warnings.filterwarnings('ignore')\n"
   ]
  },
  {
   "cell_type": "markdown",
   "id": "a944e3e7",
   "metadata": {},
   "source": [
    "## Tabla de races"
   ]
  },
  {
   "cell_type": "code",
   "execution_count": null,
   "id": "daf95826",
   "metadata": {},
   "outputs": [],
   "source": [
    "races={'season':[],\n",
    "      'round':[],\n",
    "      'raceName':[],\n",
    "      'circuitId':[],\n",
    "      'lat':[],\n",
    "      'long':[],\n",
    "      'country':[],\n",
    "      'date':[],\n",
    "      'url':[]}"
   ]
  },
  {
   "cell_type": "code",
   "execution_count": null,
   "id": "9d5e4534",
   "metadata": {},
   "outputs": [],
   "source": [
    "for year in list(range(2010,2023)):\n",
    "    url='http://ergast.com/api/f1/{}.json'\n",
    "    response=requests.get(url.format(year))\n",
    "    content=json.loads(response.content)\n",
    "    \n",
    "    for item in content['MRData']['RaceTable']['Races']:\n",
    "        races['season'].append(int(item['season']))\n",
    "        races['round'].append(int(item['round']))\n",
    "        races['raceName'].append(str(item['raceName']))\n",
    "        races['circuitId'].append(item['Circuit']['circuitId']) #Profundizar hasta donde se necesite\n",
    "        races['lat'].append(item['Circuit']['Location']['lat'])\n",
    "        races['long'].append(item['Circuit']['Location']['long'])\n",
    "        races['country'].append(item['Circuit']['Location']['country'])\n",
    "        races['date'].append(item['date'])\n"
   ]
  },
  {
   "cell_type": "code",
   "execution_count": null,
   "id": "ba8089ec",
   "metadata": {},
   "outputs": [],
   "source": [
    "pd.DataFrame(races).to_csv('races.csv', index=False) #Generar archivo"
   ]
  },
  {
   "cell_type": "markdown",
   "id": "adf4181c",
   "metadata": {},
   "source": [
    "## Tabla de seasons"
   ]
  },
  {
   "cell_type": "code",
   "execution_count": null,
   "id": "45e41b8c",
   "metadata": {},
   "outputs": [],
   "source": [
    "seasons={'year':[],\n",
    "      'url':[]}\n",
    "\n",
    "url='http://ergast.com/api/f1/seasons.json'\n",
    "response=requests.get(url)\n",
    "content=json.loads(response.content)\n",
    "    \n",
    "for item in content['MRData']['SeasonTable']['Seasons']:\n",
    "    seasons['year'].append(int(item['season']))\n",
    "    seasons['url'].append(item['url'])\n",
    "\n",
    "pd.DataFrame(seasons)"
   ]
  },
  {
   "cell_type": "code",
   "execution_count": null,
   "id": "69556bb1",
   "metadata": {},
   "outputs": [],
   "source": [
    "pd.DataFrame(seasons).to_csv('seasons.csv', index=False)"
   ]
  },
  {
   "cell_type": "markdown",
   "id": "da77de4f",
   "metadata": {},
   "source": [
    "## Tabla de drivers"
   ]
  },
  {
   "cell_type": "code",
   "execution_count": null,
   "id": "7abfc3d5",
   "metadata": {},
   "outputs": [],
   "source": [
    "url='http://ergast.com/api/f1/drivers.json'\n",
    "response=requests.get(url)\n",
    "content=json.loads(response.content)\n",
    "#content['MRData']['DriverTable']['Drivers']"
   ]
  },
  {
   "cell_type": "code",
   "execution_count": null,
   "id": "04f4bacb",
   "metadata": {},
   "outputs": [],
   "source": [
    "drivers={'driverId':[], 'url':[],'givenName':[], 'familyName':[], 'dateOfBirth':[], 'nationality':[]}\n",
    "\n",
    "for year in list(range(2010,2023)):\n",
    "    url='http://ergast.com/api/f1/{}/drivers.json'\n",
    "    response=requests.get(url.format(year))\n",
    "    content=json.loads(response.content)\n",
    "    \n",
    "    for item in content['MRData']['DriverTable']['Drivers']:\n",
    "        drivers['driverId'].append(item['driverId'])\n",
    "        #drivers['code'].append(item['code'])\n",
    "        drivers['url'].append(item['url'])\n",
    "        drivers['givenName'].append(item['givenName'])\n",
    "        drivers['familyName'].append(item['familyName'])\n",
    "        drivers['dateOfBirth'].append(item['dateOfBirth'])\n",
    "        drivers['nationality'].append(item['nationality'])\n",
    "                               \n",
    "pd.DataFrame(drivers)"
   ]
  },
  {
   "cell_type": "code",
   "execution_count": null,
   "id": "2808a953",
   "metadata": {},
   "outputs": [],
   "source": [
    "pd.DataFrame(drivers).to_csv('drivers.csv', index=False)"
   ]
  },
  {
   "cell_type": "markdown",
   "id": "84a05436",
   "metadata": {},
   "source": [
    "## Tabla de constructors"
   ]
  },
  {
   "cell_type": "code",
   "execution_count": null,
   "id": "6d4bbd67",
   "metadata": {},
   "outputs": [],
   "source": [
    "url='http://ergast.com/api/f1/constructors.json'\n",
    "response=requests.get(url)\n",
    "content=json.loads(response.content)\n",
    "pd.DataFrame(content['MRData']['ConstructorTable']['Constructors'])"
   ]
  },
  {
   "cell_type": "code",
   "execution_count": null,
   "id": "095f1dba",
   "metadata": {},
   "outputs": [],
   "source": [
    "constructors={'constructorId':[], 'url':[],'name':[], 'nationality':[]}\n",
    "\n",
    "for year in list(range(2010,2023)):\n",
    "    url='http://ergast.com/api/f1/{}/constructors.json'\n",
    "    response=requests.get(url.format(year))\n",
    "    content=json.loads(response.content)\n",
    "\n",
    "    for item in content['MRData']['ConstructorTable']['Constructors']:\n",
    "        constructors['constructorId'].append(item['constructorId'])\n",
    "        constructors['url'].append(item['url'])\n",
    "        constructors['name'].append(item['name'])\n",
    "        constructors['nationality'].append(item['nationality'])\n",
    "                               \n",
    "pd.DataFrame(constructors)"
   ]
  },
  {
   "cell_type": "code",
   "execution_count": null,
   "id": "b06f1010",
   "metadata": {},
   "outputs": [],
   "source": [
    "pd.DataFrame(constructors).to_csv('constructors.csv', index=False)"
   ]
  },
  {
   "cell_type": "markdown",
   "id": "4a8ddacc",
   "metadata": {},
   "source": [
    "## Tabla de circuits"
   ]
  },
  {
   "cell_type": "code",
   "execution_count": null,
   "id": "4dc85519",
   "metadata": {},
   "outputs": [],
   "source": [
    "url='http://ergast.com/api/f1/circuits.json'\n",
    "response = requests.get(url.format(year))\n",
    "content=json.loads(response.content)"
   ]
  },
  {
   "cell_type": "code",
   "execution_count": null,
   "id": "33ed0955",
   "metadata": {},
   "outputs": [],
   "source": [
    "cir={'cirID':[],'url':[],'cirName':[],'Lat':[],'Long':[],'Locality':[],'Country':[]}\n",
    "for year in list(range(2010,2023)):\n",
    "    url='http://ergast.com/api/f1/{}/circuits.json'\n",
    "    response = requests.get(url.format(year))\n",
    "    content=json.loads(response.content)\n",
    "    for item in content['MRData']['CircuitTable']['Circuits']:\n",
    "        cir['cirID'].append(item['circuitId'])\n",
    "        cir['url'].append(item['url'])\n",
    "        cir['cirName'].append(item['circuitName'])\n",
    "        cir['Lat'].append(item['Location']['lat'])\n",
    "        cir['Long'].append(item['Location']['long'])\n",
    "        cir['Locality'].append(item['Location']['locality'])\n",
    "        cir['Country'].append(item['Location']['country'])\n",
    "\n"
   ]
  },
  {
   "cell_type": "code",
   "execution_count": null,
   "id": "26b70910",
   "metadata": {},
   "outputs": [],
   "source": [
    "pd.DataFrame(cir).to_csv('Circuits.csv', index=False)"
   ]
  },
  {
   "cell_type": "markdown",
   "id": "028936be",
   "metadata": {},
   "source": [
    "## Tabla de qualifying"
   ]
  },
  {
   "cell_type": "code",
   "execution_count": null,
   "id": "97a117ca",
   "metadata": {},
   "outputs": [],
   "source": [
    "#for year, rounds in zip(list(range(2010,2023)),list(range(1,23))):\n",
    "\n",
    "for year in list(range(2010,2023)):\n",
    "    \n",
    "    for rounds in list(range(1,23)):\n",
    "        \n",
    "        url='http://ergast.com/api/f1/{year}/{rounds}/qualifying.json'\n",
    "        response=requests.get(url.format(year=year,rounds=rounds))\n",
    "        content=json.loads(response.content)\n",
    "\n",
    "pd.DataFrame(content['MRData']['RaceTable']['Races'])"
   ]
  },
  {
   "cell_type": "code",
   "execution_count": null,
   "id": "ce6f9921",
   "metadata": {},
   "outputs": [],
   "source": [
    "qualifying={'driverId':[],'raceName':[],'constructorId':[],'number':[],'position':[],'q1':[],'q2':[],'q3':[]}\n",
    "\n",
    "for item in content['MRData']['RaceTable']['Races']:\n",
    "    qualifying['driverId'].append(int(item['QualifyingResults']['Driver']['driverId']))\n",
    "    qualifying['raceName'].append(item['raceName'])\n",
    "    qualifying['constructorId'].append(item['QualifyingResults']['Constructor']['constructorId'])\n",
    "    qualifying['number'].append(item['QualifyingResults']['number'])\n",
    "    qualifying['position'].append(item['QualifyingResults']['position'])\n",
    "    qualifying['q1'].append(item['QualifyingResults']['q1'])\n",
    "    qualifying['q2'].append(item['QualifyingResults']['q2'])\n",
    "    qualifying['q3'].append(item['QualifyingResults']['q3'])\n",
    "    "
   ]
  },
  {
   "cell_type": "code",
   "execution_count": null,
   "id": "1c9fe115",
   "metadata": {},
   "outputs": [],
   "source": [
    "pd.DataFrame(qualifying).to_csv('Qualifying.csv', index=False)"
   ]
  },
  {
   "cell_type": "markdown",
   "id": "0b185492",
   "metadata": {},
   "source": [
    "## Tabla sprintResults"
   ]
  },
  {
   "cell_type": "code",
   "execution_count": null,
   "id": "02af1c82",
   "metadata": {},
   "outputs": [],
   "source": [
    "content['MRData']['RaceTable']['Races'][0]['SprintResults']"
   ]
  },
  {
   "cell_type": "code",
   "execution_count": 12,
   "id": "e427ed15",
   "metadata": {},
   "outputs": [],
   "source": [
    "spr={'driveID':[],'constructorid':[],'num':[],'grid':[],'pos':[],'postex':[],'points':[],'laps':[],'time':[],'millis':[],\n",
    "     'status':[],'fastl':[],'fastt':[]}\n",
    "for year in list(range(2021,2023)):\n",
    "    url='http://ergast.com/api/f1/{}/sprint.json'\n",
    "    response = requests.get(url.format(year))\n",
    "    content=json.loads(response.content)\n",
    "    for item in content['MRData']['RaceTable']['Races'][0]['SprintResults']:\n",
    "        spr['driveID'].append(item['Driver']['driverId'])\n",
    "        spr['constructorid'].append(item['Constructor']['constructorId'])\n",
    "        spr['num'].append(item['number'])\n",
    "        spr['grid'].append(item['grid'])\n",
    "        spr['pos'].append(item['position'])\n",
    "        spr['postex'].append(item['positionText'])\n",
    "        spr['points'].append(item['points'])\n",
    "        spr['laps'].append(item['laps'])\n",
    "        try:\n",
    "            spr['time'].append(item['Time']['time'])\n",
    "        except:\n",
    "            spr['time'].append(np.nan)\n",
    "        try:\n",
    "            spr['millis'].append(item['Time']['millis'])\n",
    "        except:\n",
    "            spr['millis'].append(np.nan)\n",
    "        try:\n",
    "            spr['status'].append(item['status'])\n",
    "        except:\n",
    "            spr['status'].append(np.nan)\n",
    "        try:\n",
    "            spr['fastl'].append(item['FastestLap']['lap'])\n",
    "        except:\n",
    "            spr['fastl'].append(np.nan)\n",
    "        try:\n",
    "            spr['fastt'].append(item['FastestLap']['Time']['time'])\n",
    "        except:\n",
    "            spr['fastt'].append(np.nan)\n",
    "    for item in content['MRData']['RaceTable']['Races'][1]['SprintResults']:\n",
    "        spr['driveID'].append(item['Driver']['driverId'])\n",
    "        spr['constructorid'].append(item['Constructor']['constructorId'])\n",
    "        spr['num'].append(item['number'])\n",
    "        spr['grid'].append(item['grid'])\n",
    "        spr['pos'].append(item['position'])\n",
    "        spr['postex'].append(item['positionText'])\n",
    "        spr['points'].append(item['points'])\n",
    "        spr['laps'].append(item['laps'])\n",
    "        try:\n",
    "            spr['time'].append(item['Time']['time'])\n",
    "        except:\n",
    "            spr['time'].append(np.nan)\n",
    "        try:\n",
    "            spr['millis'].append(item['Time']['millis'])\n",
    "        except:\n",
    "            spr['millis'].append(np.nan)\n",
    "        try:\n",
    "            spr['status'].append(item['status'])\n",
    "        except:\n",
    "            spr['status'].append(np.nan)\n",
    "        try:\n",
    "            spr['fastl'].append(item['FastestLap']['lap'])\n",
    "        except:\n",
    "            spr['fastl'].append(np.nan)\n",
    "        try:\n",
    "            spr['fastt'].append(item['FastestLap']['Time']['time'])\n",
    "        except:\n",
    "            spr['fastt'].append(np.nan)"
   ]
  },
  {
   "cell_type": "code",
   "execution_count": 13,
   "id": "e11c4ed1",
   "metadata": {},
   "outputs": [],
   "source": [
    "pd.DataFrame(spr).to_csv('SprintResults.csv', index=False)"
   ]
  },
  {
   "cell_type": "raw",
   "id": "7271865c",
   "metadata": {},
   "source": [
    "for year in list(range(2010,2023)):\n",
    "    \n",
    "    for rounds in list(range(1,23)):\n",
    "        \n",
    "        url = 'http://ergast.com/api/f1/{year}/{rounds}/sprint.json'\n",
    "        while url == 'http://ergast.com/api/f1/{year}/{rounds}/sprint.json':\n",
    "            try:\n",
    "                response=requests.get(url.format(year=year,rounds=rounds))\n",
    "                break\n",
    "            except:\n",
    "                print(\"Connection refused by the server..\")\n",
    "                print(\"Let me sleep for 5 seconds\")\n",
    "                print(\"ZZzzzz...\")\n",
    "                time.sleep(5)\n",
    "                print(\"Was a nice sleep, now let me continue...\")\n",
    "                continue\n",
    "        content=json.loads(response.content)\n",
    "pd.DataFrame(content['MRData']['RaceTable']['Races'])"
   ]
  },
  {
   "cell_type": "raw",
   "id": "e4746084",
   "metadata": {},
   "source": [
    "sprints={'raceName':[],'driverId':[],'constructorId':[],'number':[],\n",
    "         'grid':[],'position':[],'positionText':[],'positionOrder':[],\n",
    "         'points':[],'laps':[],'time':[],'milliseconds':[],'fastestLap':[],\n",
    "         'fastestLapTime':[],'statusId':[]}\n",
    "\n",
    "for item in content['MRData']['RaceTable']['Races']:\n",
    "    sprints['raceName'].append(item['raceName'])\n",
    "    sprints['driverId'].append(item['SprintResults']['Constructor']['constructorId'])\n",
    "    sprints['constructorId'].append(item['SprintResults']['Driver']['driverId'])\n",
    "    sprints['number'].append(item['SprintResults']['number'])\n",
    "    sprints['grid'].append(item['SprintResults']['grid'])\n",
    "    sprints['position'].append(item['SprintResults']['position'])\n",
    "    sprints['positionText'].append(item['SprintResults']['positionText'])\n",
    "    sprints['positionOrder'].append(item['SprintResults']['positionOrder'])\n",
    "    sprints['points'].append(item['SprintResults']['points'])\n",
    "    sprints['laps'].append(item['SprintResults']['laps'])\n",
    "    sprints['time'].append(item['SprintResults']['Time']['time'])\n",
    "    sprints['milliseconds'].append(item['SprintResults']['Time']['millis'])\n",
    "    sprints['fastestLap'].append(item['SprintResults']['FastestLap']['lap'])\n",
    "    sprints['fastestLapTime'].append(item['SprintResults']['FastestLap']['Time']['time'])\n",
    "    sprints['statusId'].append(item['SprintResults']['status'])"
   ]
  },
  {
   "cell_type": "code",
   "execution_count": null,
   "id": "568e8e5e",
   "metadata": {},
   "outputs": [],
   "source": [
    "pd.DataFrame(sprints).to_csv('SprintsResults.csv', index=False)"
   ]
  },
  {
   "cell_type": "markdown",
   "id": "cf2fe016",
   "metadata": {},
   "source": [
    "## Tabla status"
   ]
  },
  {
   "cell_type": "code",
   "execution_count": 19,
   "id": "1d197cc4",
   "metadata": {},
   "outputs": [
    {
     "data": {
      "text/html": [
       "<div>\n",
       "<style scoped>\n",
       "    .dataframe tbody tr th:only-of-type {\n",
       "        vertical-align: middle;\n",
       "    }\n",
       "\n",
       "    .dataframe tbody tr th {\n",
       "        vertical-align: top;\n",
       "    }\n",
       "\n",
       "    .dataframe thead th {\n",
       "        text-align: right;\n",
       "    }\n",
       "</style>\n",
       "<table border=\"1\" class=\"dataframe\">\n",
       "  <thead>\n",
       "    <tr style=\"text-align: right;\">\n",
       "      <th></th>\n",
       "      <th>statusId</th>\n",
       "      <th>count</th>\n",
       "      <th>status</th>\n",
       "    </tr>\n",
       "  </thead>\n",
       "  <tbody>\n",
       "    <tr>\n",
       "      <th>0</th>\n",
       "      <td>1</td>\n",
       "      <td>7083</td>\n",
       "      <td>Finished</td>\n",
       "    </tr>\n",
       "    <tr>\n",
       "      <th>1</th>\n",
       "      <td>2</td>\n",
       "      <td>143</td>\n",
       "      <td>Disqualified</td>\n",
       "    </tr>\n",
       "    <tr>\n",
       "      <th>2</th>\n",
       "      <td>3</td>\n",
       "      <td>1044</td>\n",
       "      <td>Accident</td>\n",
       "    </tr>\n",
       "    <tr>\n",
       "      <th>3</th>\n",
       "      <td>4</td>\n",
       "      <td>833</td>\n",
       "      <td>Collision</td>\n",
       "    </tr>\n",
       "    <tr>\n",
       "      <th>4</th>\n",
       "      <td>5</td>\n",
       "      <td>2011</td>\n",
       "      <td>Engine</td>\n",
       "    </tr>\n",
       "    <tr>\n",
       "      <th>5</th>\n",
       "      <td>6</td>\n",
       "      <td>805</td>\n",
       "      <td>Gearbox</td>\n",
       "    </tr>\n",
       "    <tr>\n",
       "      <th>6</th>\n",
       "      <td>7</td>\n",
       "      <td>321</td>\n",
       "      <td>Transmission</td>\n",
       "    </tr>\n",
       "    <tr>\n",
       "      <th>7</th>\n",
       "      <td>8</td>\n",
       "      <td>214</td>\n",
       "      <td>Clutch</td>\n",
       "    </tr>\n",
       "    <tr>\n",
       "      <th>8</th>\n",
       "      <td>9</td>\n",
       "      <td>138</td>\n",
       "      <td>Hydraulics</td>\n",
       "    </tr>\n",
       "    <tr>\n",
       "      <th>9</th>\n",
       "      <td>10</td>\n",
       "      <td>315</td>\n",
       "      <td>Electrical</td>\n",
       "    </tr>\n",
       "    <tr>\n",
       "      <th>10</th>\n",
       "      <td>11</td>\n",
       "      <td>3850</td>\n",
       "      <td>+1 Lap</td>\n",
       "    </tr>\n",
       "    <tr>\n",
       "      <th>11</th>\n",
       "      <td>12</td>\n",
       "      <td>1593</td>\n",
       "      <td>+2 Laps</td>\n",
       "    </tr>\n",
       "    <tr>\n",
       "      <th>12</th>\n",
       "      <td>13</td>\n",
       "      <td>731</td>\n",
       "      <td>+3 Laps</td>\n",
       "    </tr>\n",
       "    <tr>\n",
       "      <th>13</th>\n",
       "      <td>14</td>\n",
       "      <td>405</td>\n",
       "      <td>+4 Laps</td>\n",
       "    </tr>\n",
       "    <tr>\n",
       "      <th>14</th>\n",
       "      <td>15</td>\n",
       "      <td>221</td>\n",
       "      <td>+5 Laps</td>\n",
       "    </tr>\n",
       "    <tr>\n",
       "      <th>15</th>\n",
       "      <td>16</td>\n",
       "      <td>153</td>\n",
       "      <td>+6 Laps</td>\n",
       "    </tr>\n",
       "    <tr>\n",
       "      <th>16</th>\n",
       "      <td>17</td>\n",
       "      <td>99</td>\n",
       "      <td>+7 Laps</td>\n",
       "    </tr>\n",
       "    <tr>\n",
       "      <th>17</th>\n",
       "      <td>18</td>\n",
       "      <td>52</td>\n",
       "      <td>+8 Laps</td>\n",
       "    </tr>\n",
       "    <tr>\n",
       "      <th>18</th>\n",
       "      <td>19</td>\n",
       "      <td>38</td>\n",
       "      <td>+9 Laps</td>\n",
       "    </tr>\n",
       "    <tr>\n",
       "      <th>19</th>\n",
       "      <td>20</td>\n",
       "      <td>792</td>\n",
       "      <td>Spun off</td>\n",
       "    </tr>\n",
       "    <tr>\n",
       "      <th>20</th>\n",
       "      <td>21</td>\n",
       "      <td>42</td>\n",
       "      <td>Radiator</td>\n",
       "    </tr>\n",
       "    <tr>\n",
       "      <th>21</th>\n",
       "      <td>22</td>\n",
       "      <td>431</td>\n",
       "      <td>Suspension</td>\n",
       "    </tr>\n",
       "    <tr>\n",
       "      <th>22</th>\n",
       "      <td>23</td>\n",
       "      <td>250</td>\n",
       "      <td>Brakes</td>\n",
       "    </tr>\n",
       "    <tr>\n",
       "      <th>23</th>\n",
       "      <td>24</td>\n",
       "      <td>61</td>\n",
       "      <td>Differential</td>\n",
       "    </tr>\n",
       "    <tr>\n",
       "      <th>24</th>\n",
       "      <td>25</td>\n",
       "      <td>130</td>\n",
       "      <td>Overheating</td>\n",
       "    </tr>\n",
       "    <tr>\n",
       "      <th>25</th>\n",
       "      <td>26</td>\n",
       "      <td>28</td>\n",
       "      <td>Mechanical</td>\n",
       "    </tr>\n",
       "    <tr>\n",
       "      <th>26</th>\n",
       "      <td>27</td>\n",
       "      <td>55</td>\n",
       "      <td>Tyre</td>\n",
       "    </tr>\n",
       "    <tr>\n",
       "      <th>27</th>\n",
       "      <td>28</td>\n",
       "      <td>1</td>\n",
       "      <td>Driver Seat</td>\n",
       "    </tr>\n",
       "    <tr>\n",
       "      <th>28</th>\n",
       "      <td>29</td>\n",
       "      <td>41</td>\n",
       "      <td>Puncture</td>\n",
       "    </tr>\n",
       "    <tr>\n",
       "      <th>29</th>\n",
       "      <td>30</td>\n",
       "      <td>25</td>\n",
       "      <td>Driveshaft</td>\n",
       "    </tr>\n",
       "  </tbody>\n",
       "</table>\n",
       "</div>"
      ],
      "text/plain": [
       "   statusId count        status\n",
       "0         1  7083      Finished\n",
       "1         2   143  Disqualified\n",
       "2         3  1044      Accident\n",
       "3         4   833     Collision\n",
       "4         5  2011        Engine\n",
       "5         6   805       Gearbox\n",
       "6         7   321  Transmission\n",
       "7         8   214        Clutch\n",
       "8         9   138    Hydraulics\n",
       "9        10   315    Electrical\n",
       "10       11  3850        +1 Lap\n",
       "11       12  1593       +2 Laps\n",
       "12       13   731       +3 Laps\n",
       "13       14   405       +4 Laps\n",
       "14       15   221       +5 Laps\n",
       "15       16   153       +6 Laps\n",
       "16       17    99       +7 Laps\n",
       "17       18    52       +8 Laps\n",
       "18       19    38       +9 Laps\n",
       "19       20   792      Spun off\n",
       "20       21    42      Radiator\n",
       "21       22   431    Suspension\n",
       "22       23   250        Brakes\n",
       "23       24    61  Differential\n",
       "24       25   130   Overheating\n",
       "25       26    28    Mechanical\n",
       "26       27    55          Tyre\n",
       "27       28     1   Driver Seat\n",
       "28       29    41      Puncture\n",
       "29       30    25    Driveshaft"
      ]
     },
     "execution_count": 19,
     "metadata": {},
     "output_type": "execute_result"
    }
   ],
   "source": [
    "url='http://ergast.com/api/f1/status.json'\n",
    "response=requests.get(url)\n",
    "content=json.loads(response.content)\n",
    "pd.DataFrame(content['MRData']['StatusTable']['Status'])"
   ]
  },
  {
   "cell_type": "code",
   "execution_count": 22,
   "id": "6cb773c3",
   "metadata": {},
   "outputs": [],
   "source": [
    "status={'statusId':[],'count':[]'status':[]}\n",
    "\n",
    "for item in content['MRData']['StatusTable']['Status']:\n",
    "    status['statusId'].append(item['statusId'])\n",
    "    status['count'].append(item['count'])\n",
    "    status['status'].append(item['status'])"
   ]
  },
  {
   "cell_type": "code",
   "execution_count": 23,
   "id": "36a45bfd",
   "metadata": {},
   "outputs": [],
   "source": [
    "pd.DataFrame(status).to_csv('Status.csv', index=False)"
   ]
  },
  {
   "cell_type": "markdown",
   "id": "bb87844f",
   "metadata": {},
   "source": [
    "## Tabla results"
   ]
  },
  {
   "cell_type": "code",
   "execution_count": 14,
   "id": "0c95a4a3",
   "metadata": {},
   "outputs": [],
   "source": [
    "res={'driver':[],'cons':[],'num':[],'pos':[],'postex':[],'poi':[],'grid':[],'laps':[],'tim':[],'millis':[],'fastl':[],'rank':[]}\n",
    "for year in list(range(2010,2023)):\n",
    "    url='http://ergast.com/api/f1/{}/results.json'\n",
    "    response = requests.get(url.format(year))\n",
    "    content=json.loads(response.content)\n",
    "    for item in  content['MRData']['RaceTable']['Races'][0]['Results']:\n",
    "        try:\n",
    "            res['fastl'].append(item['FastestLap']['lap'])\n",
    "        except:\n",
    "            res['fastl'].append(np.nan)\n",
    "        try:\n",
    "            res['rank'].append(item['FastestLap']['rank'])\n",
    "        except:\n",
    "            res['rank'].append(np.nan)\n",
    "        res['cons'].append(item['Constructor']['constructorId'])\n",
    "        res['driver'].append(item['Driver']['driverId'])\n",
    "        res['num'].append(item['number'])\n",
    "        res['pos'].append(item['position'])\n",
    "        res['postex'].append(item['positionText'])\n",
    "        res['poi'].append(item['points'])\n",
    "        res['grid'].append(item['grid'])\n",
    "        res['laps'].append(item['laps'])\n",
    "        try:\n",
    "            res['tim'].append(item['Time']['time'])\n",
    "        except:\n",
    "            res['tim'].append(np.nan)\n",
    "        try:\n",
    "            res['millis'].append(item['Time']['millis'])\n",
    "        except:\n",
    "            res['millis'].append(np.nan)\n",
    "    for item in  content['MRData']['RaceTable']['Races'][1]['Results']:\n",
    "        try:\n",
    "            res['fastl'].append(item['FastestLap']['lap'])\n",
    "        except:\n",
    "            res['fastl'].append(np.nan)\n",
    "        try:\n",
    "            res['rank'].append(item['FastestLap']['rank'])\n",
    "        except:\n",
    "            res['rank'].append(np.nan)\n",
    "        res['cons'].append(item['Constructor']['constructorId'])\n",
    "        res['driver'].append(item['Driver']['driverId'])\n",
    "        res['num'].append(item['number'])\n",
    "        res['pos'].append(item['position'])\n",
    "        res['postex'].append(item['positionText'])\n",
    "        res['poi'].append(item['points'])\n",
    "        res['grid'].append(item['grid'])\n",
    "        res['laps'].append(item['laps'])\n",
    "        try:\n",
    "            res['tim'].append(item['Time']['time'])\n",
    "        except:\n",
    "            res['tim'].append(np.nan)\n",
    "        try:\n",
    "            res['millis'].append(item['Time']['millis'])\n",
    "        except:\n",
    "            res['millis'].append(np.nan)"
   ]
  },
  {
   "cell_type": "code",
   "execution_count": 15,
   "id": "89d96d4c",
   "metadata": {},
   "outputs": [],
   "source": [
    "pd.DataFrame(res).to_csv('Results.csv', index=False)"
   ]
  },
  {
   "cell_type": "raw",
   "id": "cba28aa2",
   "metadata": {},
   "source": [
    "results={'raceName':[],'driverId':[],'constructorId':[],'number':[],'grid':[],\n",
    "        'position':[],'positionText':[],'positionOrder':[],'points':[],'laps':[],\n",
    "        'time':[],'milliseconds':[],'fastestLap':[],'rank':[],'fastestLapTime':[],\n",
    "         'fastestLapSpeed':[],'statusId':[]}\n",
    "\n",
    "for item in content['MRData']['RaceTable']['Races']\n",
    "    results['raceName'].append(item['raceName'])\n",
    "    results['driverId'].append(item['Results']['Driver']['driverId'])\n",
    "    results['constructorId'].append(item['Results']['Constructor']['constructorId'])\n",
    "    results['number'].append(item['Results']['number'])\n",
    "    results['grid'].append(item['Results']['grid'])\n",
    "    results['position'].append(item['Results']['position'])\n",
    "    results['positionText'].append(item['Results']['positionText'])\n",
    "    results['positionOrder'].append(item['Results']['positionOrder'])\n",
    "    results['points'].append(item['Results']['points'])\n",
    "    results['laps'].append(item['Results']['laps'])\n",
    "    results['time'].append(item['Results']['Time']['time'])\n",
    "    results['milliseconds'].append(item['Results']['Time']['milliseconds'])\n",
    "    results['fastestLap'].append(item['Results']['FastestLap'])\n",
    "    results['rank'].append(item['Results']['FastestLap']['rank'])\n",
    "    results['fastestLapTime'].append(item['Results']['FastestLap']['Time']['time'])\n",
    "    results['fastestLapSpeed'].append(item['Results']['FastestLap']['AverageSpeed']['speed'])\n",
    "    results['statusId'].append(item['Results']['status'])\n",
    "    "
   ]
  },
  {
   "cell_type": "markdown",
   "id": "2e00d2cf",
   "metadata": {},
   "source": [
    "## Tabla pitStops"
   ]
  },
  {
   "cell_type": "code",
   "execution_count": null,
   "id": "6623d370",
   "metadata": {},
   "outputs": [],
   "source": []
  },
  {
   "cell_type": "raw",
   "id": "3c35a114",
   "metadata": {},
   "source": [
    "for year in list(range(2010,2023)):\n",
    "    \n",
    "    for rounds in list(range(1,23)):\n",
    "        \n",
    "        url='http://ergast.com/api/f1/{year}/{rounds}/pitstops.json'\n",
    "        response=requests.get(url.format(year=year,rounds=rounds))\n",
    "        content=json.loads(response.content)\n",
    "\n",
    "pd.DataFrame(content['MRData']['RaceTable']['Races'])"
   ]
  },
  {
   "cell_type": "raw",
   "id": "94573050",
   "metadata": {},
   "source": [
    "pitstops={'raceName':[],'driverId':[],'stop':[],'lap':[],'time':[],'duration':[]}\n",
    "\n",
    "for item in content['MRData']['RaceTable']['Races']\n",
    "    pitsops['raceName'].append(item['raceName'])\n",
    "    pitsops['driverId'].append(item['PitStops']['driverId'])\n",
    "    pitsops['stop'].append(item['PitStops']['stop'])\n",
    "    pitsops['lap'].append(item['PitStops']['lap'])\n",
    "    pitsops['time'].append(item['PitStops']['time'])\n",
    "    pitsops['duration'].append(item['PitStops']['duration'])"
   ]
  },
  {
   "cell_type": "code",
   "execution_count": null,
   "id": "2ad14b73",
   "metadata": {},
   "outputs": [],
   "source": [
    "pd.DataFrame(pitstops).to_csv('PitStops.csv', index=False)"
   ]
  },
  {
   "cell_type": "markdown",
   "id": "517fddc3",
   "metadata": {},
   "source": [
    "## Tabla de resultados"
   ]
  },
  {
   "cell_type": "code",
   "execution_count": null,
   "id": "0ede3a65",
   "metadata": {},
   "outputs": [],
   "source": [
    "df_results_2022=pd.DataFrame()\n",
    "for race in range(1,23):\n",
    "    url='http://ergast.com/api/f1/2022/{}/results.json'\n",
    "    response=requests.get(url.format(race))\n",
    "    content=json.loads(response.content)\n",
    "    df_results_2022 = df_results_2022.append(content['MRData']['RaceTable']['Races'][0]['Results']) #content[...]) es un diccionario\n",
    "    #convertido a un dataframe"
   ]
  },
  {
   "cell_type": "code",
   "execution_count": null,
   "id": "e5a5e2cb",
   "metadata": {},
   "outputs": [],
   "source": [
    "for year in list(range(2010,2023)):\n",
    "    url='http://ergast.com/api/f1/{}.json'\n",
    "    response=requests.get(url.format(year))\n",
    "    content=json.loads(response.content)"
   ]
  },
  {
   "cell_type": "markdown",
   "id": "b5a26949",
   "metadata": {},
   "source": [
    "## Otros"
   ]
  },
  {
   "cell_type": "code",
   "execution_count": null,
   "id": "29cdfb90",
   "metadata": {},
   "outputs": [],
   "source": [
    "content.keys() "
   ]
  },
  {
   "cell_type": "code",
   "execution_count": null,
   "id": "a00b1166",
   "metadata": {},
   "outputs": [],
   "source": [
    "len(races['season'])"
   ]
  },
  {
   "cell_type": "code",
   "execution_count": null,
   "id": "072a5caa",
   "metadata": {},
   "outputs": [],
   "source": [
    "#races.keys()\n",
    "for key in races.keys():\n",
    "    print(len(races[key]))"
   ]
  },
  {
   "cell_type": "code",
   "execution_count": null,
   "id": "4ac05697",
   "metadata": {},
   "outputs": [],
   "source": [
    "pd.DataFrame(races) #Para hacer un data frame se necesitan las mismas dimensiones"
   ]
  },
  {
   "cell_type": "code",
   "execution_count": null,
   "id": "0bcfcb40",
   "metadata": {},
   "outputs": [],
   "source": [
    "url = 'http://ergast.com/api/f1/2022/22.json'\n",
    "response = requests.get(url)"
   ]
  },
  {
   "cell_type": "code",
   "execution_count": null,
   "id": "98046830",
   "metadata": {},
   "outputs": [],
   "source": [
    "content=json.loads(response.content)"
   ]
  },
  {
   "cell_type": "code",
   "execution_count": null,
   "id": "93d33b0b",
   "metadata": {},
   "outputs": [],
   "source": [
    "df_results_2022"
   ]
  },
  {
   "cell_type": "code",
   "execution_count": null,
   "id": "620775b3",
   "metadata": {},
   "outputs": [],
   "source": [
    "df_results_2022['points']=df_results_2022.points.astype(int)\n",
    "df_results_2022.groupby(['position']).agg({'points':'sum'})\n",
    "df_results_2022.groupby(['position']).agg({'points':'sum'}).sort_values(by='points',ascending=False)"
   ]
  },
  {
   "cell_type": "code",
   "execution_count": null,
   "id": "0923f7da",
   "metadata": {},
   "outputs": [],
   "source": []
  },
  {
   "cell_type": "code",
   "execution_count": null,
   "id": "39cbff94",
   "metadata": {},
   "outputs": [],
   "source": [
    "#Clase 31/01/23"
   ]
  },
  {
   "cell_type": "code",
   "execution_count": null,
   "id": "d507e0ca",
   "metadata": {},
   "outputs": [],
   "source": []
  },
  {
   "cell_type": "code",
   "execution_count": null,
   "id": "2119b4b0",
   "metadata": {},
   "outputs": [],
   "source": [
    "#Ir por cada diccionario y de cada valor obtener el nombre\n",
    "df_results_2022['Driver']=df_results_2022['Driver'].apply(lambda x: x['driverId'])\n",
    "df_results_2022['points']=df_results_2022['points'].astype(int)\n",
    "df_results_2022.groupby(['Driver']).agg({'points':'sum'}).sort_values(by='points', ascending=False)"
   ]
  },
  {
   "cell_type": "code",
   "execution_count": null,
   "id": "d9426b9e",
   "metadata": {},
   "outputs": [],
   "source": [
    "df_results_2022"
   ]
  },
  {
   "cell_type": "code",
   "execution_count": null,
   "id": "80e715a7",
   "metadata": {},
   "outputs": [],
   "source": [
    "#Cuántos puntos por constructor se generaron en 2022\n",
    "df_results_2022['Constructor']=df_results_2022['Constructor'].apply(lambda x: x['constructorId'])\n",
    "df_results_2022['points']=df_results_2022['points'].astype(int)\n",
    "df_results_2022.groupby(['Constructor']).agg({'points':'sum'}).sort_values(by='points', ascending=False)\n"
   ]
  },
  {
   "cell_type": "code",
   "execution_count": null,
   "id": "acef2fbd",
   "metadata": {},
   "outputs": [],
   "source": []
  }
 ],
 "metadata": {
  "kernelspec": {
   "display_name": "Python 3 (ipykernel)",
   "language": "python",
   "name": "python3"
  },
  "language_info": {
   "codemirror_mode": {
    "name": "ipython",
    "version": 3
   },
   "file_extension": ".py",
   "mimetype": "text/x-python",
   "name": "python",
   "nbconvert_exporter": "python",
   "pygments_lexer": "ipython3",
   "version": "3.9.13"
  }
 },
 "nbformat": 4,
 "nbformat_minor": 5
}
