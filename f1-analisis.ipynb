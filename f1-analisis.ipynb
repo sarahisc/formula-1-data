{
 "cells": [
  {
   "cell_type": "markdown",
   "id": "b4cda0be",
   "metadata": {},
   "source": [
    "## Librerías"
   ]
  },
  {
   "cell_type": "code",
   "execution_count": null,
   "id": "e44b3139",
   "metadata": {},
   "outputs": [],
   "source": [
    "import pandas as pd\n",
    "import json\n",
    "import requests\n",
    "import warnings\n",
    "warnings.filterwarnings('ignore')"
   ]
  },
  {
   "cell_type": "markdown",
   "id": "33b122cc",
   "metadata": {},
   "source": [
    "## Tabla de races"
   ]
  },
  {
   "cell_type": "code",
   "execution_count": null,
   "id": "75fac212",
   "metadata": {},
   "outputs": [],
   "source": [
    "races={'season':[],\n",
    "      'round':[],\n",
    "      'raceName':[],\n",
    "      'circuitId':[],\n",
    "      'lat':[],\n",
    "      'long':[],\n",
    "      'country':[],\n",
    "      'date':[],\n",
    "      'url':[]}"
   ]
  },
  {
   "cell_type": "code",
   "execution_count": null,
   "id": "381a5765",
   "metadata": {},
   "outputs": [],
   "source": [
    "for year in list(range(2010,2023)):\n",
    "    url='http://ergast.com/api/f1/{}.json'\n",
    "    response=requests.get(url.format(year))\n",
    "    content=json.loads(response.content)\n",
    "    \n",
    "    for item in content['MRData']['RaceTable']['Races']:\n",
    "        races['season'].append(int(item['season']))\n",
    "        races['round'].append(int(item['round']))\n",
    "        races['raceName'].append(str(item['raceName']))\n",
    "        races['circuitId'].append(item['Circuit']['circuitId']) #Profundizar hasta donde se necesite\n",
    "        races['lat'].append(item['Circuit']['Location']['lat'])\n",
    "        races['long'].append(item['Circuit']['Location']['long'])\n",
    "        races['country'].append(item['Circuit']['Location']['country'])\n",
    "        races['date'].append(item['date'])\n",
    "        races['url'].append(item['url'])\n",
    "races\n",
    "        "
   ]
  },
  {
   "cell_type": "markdown",
   "id": "40bec1f6",
   "metadata": {},
   "source": [
    "pd.DataFrame(races)"
   ]
  },
  {
   "cell_type": "markdown",
   "id": "d0b5602b",
   "metadata": {},
   "source": [
    "## Tabla de resultados"
   ]
  },
  {
   "cell_type": "code",
   "execution_count": null,
   "id": "0ede3a65",
   "metadata": {},
   "outputs": [],
   "source": [
    "df_results_2022=pd.DataFrame()\n",
    "for race in range(1,23):\n",
    "    url='http://ergast.com/api/f1/2022/{}/results.json'\n",
    "    response=requests.get(url.format(race))\n",
    "    content=json.loads(response.content)\n",
    "    df_results_2022 = df_results_2022.append(content['MRData']['RaceTable']['Races'][0]['Results']) #content[...]) es un diccionario\n",
    "    #convertido a un dataframe"
   ]
  },
  {
   "cell_type": "code",
   "execution_count": null,
   "id": "d301ce07",
   "metadata": {},
   "outputs": [],
   "source": [
    "for year in list(range(2010,2023)):\n",
    "    url='http://ergast.com/api/f1/{}.json'\n",
    "    response=requests.get(url.format(year))\n",
    "    content=json.loads(response.content)"
   ]
  },
  {
   "cell_type": "code",
   "execution_count": null,
   "id": "8eb49b8a",
   "metadata": {},
   "outputs": [],
   "source": [
    "content.keys() "
   ]
  },
  {
   "cell_type": "code",
   "execution_count": null,
   "id": "32340891",
   "metadata": {},
   "outputs": [],
   "source": [
    "content['MRData']['RaceTable']['Races']#[0]['raceName']"
   ]
  },
  {
   "cell_type": "code",
   "execution_count": null,
   "id": "f23421d7",
   "metadata": {},
   "outputs": [],
   "source": [
    "len(races['season'])"
   ]
  },
  {
   "cell_type": "code",
   "execution_count": null,
   "id": "8cfe7196",
   "metadata": {},
   "outputs": [],
   "source": [
    "#races.keys()\n",
    "for key in races.keys():\n",
    "    print(len(races[key]))"
   ]
  },
  {
   "cell_type": "code",
   "execution_count": null,
   "id": "cc776ae1",
   "metadata": {},
   "outputs": [],
   "source": [
    "races.apply(lambda x:x[])"
   ]
  },
  {
   "cell_type": "code",
   "execution_count": null,
   "id": "502adcb8",
   "metadata": {},
   "outputs": [],
   "source": [
    "pd.DataFrame(races) #Para hacer un data frame se necesitan las mismas dimensiones"
   ]
  },
  {
   "cell_type": "code",
   "execution_count": null,
   "id": "0bcfcb40",
   "metadata": {},
   "outputs": [],
   "source": [
    "url = 'http://ergast.com/api/f1/2022/22.json'\n",
    "response = requests.get(url)"
   ]
  },
  {
   "cell_type": "code",
   "execution_count": null,
   "id": "98046830",
   "metadata": {},
   "outputs": [],
   "source": [
    "content=json.loads(response.content)"
   ]
  },
  {
   "cell_type": "code",
   "execution_count": null,
   "id": "93d33b0b",
   "metadata": {},
   "outputs": [],
   "source": [
    "df_results_2022"
   ]
  },
  {
   "cell_type": "code",
   "execution_count": null,
   "id": "620775b3",
   "metadata": {},
   "outputs": [],
   "source": [
    "df_results_2022['points']=df_results_2022.points.astype(int)\n",
    "df_results_2022.groupby(['position']).agg({'points':'sum'})\n",
    "df_results_2022.groupby(['position']).agg({'points':'sum'}).sort_values(by='points',ascending=False)"
   ]
  },
  {
   "cell_type": "code",
   "execution_count": null,
   "id": "0923f7da",
   "metadata": {},
   "outputs": [],
   "source": []
  },
  {
   "cell_type": "code",
   "execution_count": null,
   "id": "39cbff94",
   "metadata": {},
   "outputs": [],
   "source": [
    "#Clase 31/01/23"
   ]
  },
  {
   "cell_type": "code",
   "execution_count": null,
   "id": "d507e0ca",
   "metadata": {},
   "outputs": [],
   "source": []
  },
  {
   "cell_type": "code",
   "execution_count": null,
   "id": "2119b4b0",
   "metadata": {},
   "outputs": [],
   "source": [
    "#Ir por cada diccionario y de cada valor obtener el nombre\n",
    "df_results_2022['Driver']=df_results_2022['Driver'].apply(lambda x: x['driverId'])\n",
    "df_results_2022['points']=df_results_2022['points'].astype(int)\n",
    "df_results_2022.groupby(['Driver']).agg({'points':'sum'}).sort_values(by='points', ascending=False)"
   ]
  },
  {
   "cell_type": "code",
   "execution_count": null,
   "id": "d9426b9e",
   "metadata": {},
   "outputs": [],
   "source": [
    "df_results_2022"
   ]
  },
  {
   "cell_type": "code",
   "execution_count": null,
   "id": "80e715a7",
   "metadata": {},
   "outputs": [],
   "source": [
    "#Cuántos puntos por constructor se generaron en 2022\n",
    "df_results_2022['Constructor']=df_results_2022['Constructor'].apply(lambda x: x['constructorId'])\n",
    "df_results_2022['points']=df_results_2022['points'].astype(int)\n",
    "df_results_2022.groupby(['Constructor']).agg({'points':'sum'}).sort_values(by='points', ascending=False)\n"
   ]
  },
  {
   "cell_type": "code",
   "execution_count": null,
   "id": "acef2fbd",
   "metadata": {},
   "outputs": [],
   "source": []
  }
 ],
 "metadata": {
  "kernelspec": {
   "display_name": "Python 3 (ipykernel)",
   "language": "python",
   "name": "python3"
  },
  "language_info": {
   "codemirror_mode": {
    "name": "ipython",
    "version": 3
   },
   "file_extension": ".py",
   "mimetype": "text/x-python",
   "name": "python",
   "nbconvert_exporter": "python",
   "pygments_lexer": "ipython3",
   "version": "3.9.13"
  }
 },
 "nbformat": 4,
 "nbformat_minor": 5
}
